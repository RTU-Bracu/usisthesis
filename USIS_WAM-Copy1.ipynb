{
 "cells": [
  {
   "cell_type": "code",
   "execution_count": 2,
   "metadata": {},
   "outputs": [
    {
     "name": "stderr",
     "output_type": "stream",
     "text": [
      "C:\\Users\\RUBYu\\Anaconda3\\lib\\site-packages\\sklearn\\ensemble\\weight_boosting.py:29: DeprecationWarning: numpy.core.umath_tests is an internal NumPy module and should not be imported. It will be removed in a future NumPy release.\n",
      "  from numpy.core.umath_tests import inner1d\n"
     ]
    }
   ],
   "source": [
    "from pandas import read_csv\n",
    "import numpy as np\n",
    "import pandas as pd\n",
    "import matplotlib.pyplot as plt\n",
    "from matplotlib.colors import ListedColormap\n",
    "import warnings\n",
    "warnings.filterwarnings(action=\"ignore\")\n",
    "import matplotlib\n",
    "matplotlib.axes.Axes.pie\n",
    "matplotlib.pyplot.pie\n",
    "import seaborn as sns\n",
    "\n",
    "from sklearn.model_selection import train_test_split\n",
    "from sklearn.preprocessing import StandardScaler\n",
    "from sklearn.preprocessing import MinMaxScaler\n",
    "from sklearn.preprocessing import LabelEncoder\n",
    "from sklearn.datasets import make_moons, make_circles, make_classification\n",
    "from sklearn.neural_network import MLPClassifier\n",
    "from sklearn.neighbors import KNeighborsClassifier\n",
    "from sklearn.svm import SVC\n",
    "from sklearn.gaussian_process import GaussianProcessClassifier\n",
    "from sklearn.gaussian_process.kernels import RBF\n",
    "from sklearn.tree import DecisionTreeClassifier\n",
    "from sklearn.ensemble import RandomForestClassifier, AdaBoostClassifier\n",
    "from sklearn.naive_bayes import GaussianNB\n",
    "from sklearn.discriminant_analysis import QuadraticDiscriminantAnalysis\n",
    "from sklearn.metrics import accuracy_score\n",
    "from sklearn.model_selection import GridSearchCV\n",
    "from sklearn.feature_selection import RFECV\n",
    "\n",
    "#/////////////////////////////////////////////////////////\n",
    "#feature selection for preparing machine learning data in Python with scikit-learn.\n",
    "#   4 different automatic feature selection techniques:\n",
    "from sklearn.feature_selection import VarianceThreshold\n",
    "from sklearn.feature_selection import SelectKBest\n",
    "from sklearn.feature_selection import chi2\n",
    "from sklearn.feature_selection import RFE\n",
    "from sklearn.linear_model import LogisticRegression\n",
    "from sklearn.decomposition import PCA\n",
    "from sklearn.ensemble import ExtraTreesClassifier\n",
    "from sklearn.feature_selection import SelectPercentile\n",
    "from sklearn.preprocessing import Binarizer \n",
    "from sklearn.feature_selection import SelectFromModel"
   ]
  },
  {
   "cell_type": "code",
   "execution_count": 3,
   "metadata": {},
   "outputs": [
    {
     "data": {
      "text/plain": [
       "(2462, 10)"
      ]
     },
     "execution_count": 3,
     "metadata": {},
     "output_type": "execute_result"
    }
   ],
   "source": [
    "# Load dataset information\n",
    "dt= pd.read_csv('Desktop/data/USIS-wamVer-2.csv')\n",
    "#dt.head()\n",
    "dt.shape"
   ]
  },
  {
   "cell_type": "markdown",
   "metadata": {},
   "source": [
    "# target_dept was added to dataset and shuffled"
   ]
  },
  {
   "cell_type": "code",
   "execution_count": 4,
   "metadata": {},
   "outputs": [
    {
     "data": {
      "text/html": [
       "<div>\n",
       "<style scoped>\n",
       "    .dataframe tbody tr th:only-of-type {\n",
       "        vertical-align: middle;\n",
       "    }\n",
       "\n",
       "    .dataframe tbody tr th {\n",
       "        vertical-align: top;\n",
       "    }\n",
       "\n",
       "    .dataframe thead th {\n",
       "        text-align: right;\n",
       "    }\n",
       "</style>\n",
       "<table border=\"1\" class=\"dataframe\">\n",
       "  <thead>\n",
       "    <tr style=\"text-align: right;\">\n",
       "      <th></th>\n",
       "      <th>1st_choice</th>\n",
       "      <th>2nd_choice</th>\n",
       "      <th>3rd_choice</th>\n",
       "      <th>ssc_or_olevel</th>\n",
       "      <th>hsc_or_alevel</th>\n",
       "      <th>medium</th>\n",
       "      <th>ssc_board</th>\n",
       "      <th>hsc_board</th>\n",
       "      <th>registered_program</th>\n",
       "      <th>target_dept</th>\n",
       "    </tr>\n",
       "  </thead>\n",
       "  <tbody>\n",
       "    <tr>\n",
       "      <th>0</th>\n",
       "      <td>ARC-1</td>\n",
       "      <td>CSE-2</td>\n",
       "      <td>CS-3</td>\n",
       "      <td>4.8</td>\n",
       "      <td>4.50</td>\n",
       "      <td>eng</td>\n",
       "      <td>NaN</td>\n",
       "      <td>NaN</td>\n",
       "      <td>ARC</td>\n",
       "      <td>Architecture</td>\n",
       "    </tr>\n",
       "    <tr>\n",
       "      <th>1</th>\n",
       "      <td>ECE-1</td>\n",
       "      <td>EEE-2</td>\n",
       "      <td>CSE-3</td>\n",
       "      <td>5.0</td>\n",
       "      <td>4.08</td>\n",
       "      <td>ban</td>\n",
       "      <td>NaN</td>\n",
       "      <td>NaN</td>\n",
       "      <td>ECE</td>\n",
       "      <td>ElectricalandElectronicEngr</td>\n",
       "    </tr>\n",
       "    <tr>\n",
       "      <th>2</th>\n",
       "      <td>BIO-1</td>\n",
       "      <td>CSE-2</td>\n",
       "      <td>BBA-3</td>\n",
       "      <td>5.0</td>\n",
       "      <td>5.00</td>\n",
       "      <td>eng-ver</td>\n",
       "      <td>Dhaka</td>\n",
       "      <td>Dhaka</td>\n",
       "      <td>BIO</td>\n",
       "      <td>MNS</td>\n",
       "    </tr>\n",
       "    <tr>\n",
       "      <th>3</th>\n",
       "      <td>ARC-1</td>\n",
       "      <td>BIO-2</td>\n",
       "      <td>EEE-3</td>\n",
       "      <td>5.0</td>\n",
       "      <td>5.00</td>\n",
       "      <td>eng</td>\n",
       "      <td>NaN</td>\n",
       "      <td>NaN</td>\n",
       "      <td>BIO</td>\n",
       "      <td>MNS</td>\n",
       "    </tr>\n",
       "    <tr>\n",
       "      <th>4</th>\n",
       "      <td>ARC-1</td>\n",
       "      <td>LLB-2</td>\n",
       "      <td>NaN</td>\n",
       "      <td>4.6</td>\n",
       "      <td>NaN</td>\n",
       "      <td>eng</td>\n",
       "      <td>NaN</td>\n",
       "      <td>NaN</td>\n",
       "      <td>LLB</td>\n",
       "      <td>School_of_Law</td>\n",
       "    </tr>\n",
       "  </tbody>\n",
       "</table>\n",
       "</div>"
      ],
      "text/plain": [
       "  1st_choice 2nd_choice 3rd_choice  ssc_or_olevel  hsc_or_alevel   medium  \\\n",
       "0      ARC-1      CSE-2       CS-3            4.8           4.50      eng   \n",
       "1      ECE-1      EEE-2      CSE-3            5.0           4.08      ban   \n",
       "2      BIO-1      CSE-2      BBA-3            5.0           5.00  eng-ver   \n",
       "3      ARC-1      BIO-2      EEE-3            5.0           5.00      eng   \n",
       "4      ARC-1      LLB-2        NaN            4.6            NaN      eng   \n",
       "\n",
       "  ssc_board hsc_board registered_program                  target_dept  \n",
       "0       NaN       NaN                ARC                 Architecture  \n",
       "1       NaN       NaN                ECE  ElectricalandElectronicEngr  \n",
       "2     Dhaka     Dhaka                BIO                          MNS  \n",
       "3       NaN       NaN                BIO                          MNS  \n",
       "4       NaN       NaN                LLB                School_of_Law  "
      ]
     },
     "execution_count": 4,
     "metadata": {},
     "output_type": "execute_result"
    }
   ],
   "source": [
    "dt.head()"
   ]
  },
  {
   "cell_type": "code",
   "execution_count": 5,
   "metadata": {},
   "outputs": [
    {
     "data": {
      "text/plain": [
       "MNS                            469\n",
       "ComputerSciandEngr             400\n",
       "ElectricalandElectronicEngr    334\n",
       "ESS                            260\n",
       "Brac_Business_School           200\n",
       "Pharmacy                       200\n",
       "School_of_Law                  200\n",
       "Architecture                   200\n",
       "ENH                            199\n",
       "Name: target_dept, dtype: int64"
      ]
     },
     "execution_count": 5,
     "metadata": {},
     "output_type": "execute_result"
    }
   ],
   "source": [
    "dt['target_dept'].value_counts()"
   ]
  },
  {
   "cell_type": "code",
   "execution_count": 6,
   "metadata": {},
   "outputs": [
    {
     "data": {
      "text/plain": [
       "CSE    200\n",
       "CS     200\n",
       "EEE    200\n",
       "LLB    200\n",
       "ARC    200\n",
       "BBA    200\n",
       "PHR    200\n",
       "ENG    199\n",
       "ECO    199\n",
       "MIC    197\n",
       "BIO    196\n",
       "ECE    134\n",
       "ANT     61\n",
       "PHY     33\n",
       "APE     25\n",
       "MAT     18\n",
       "Name: registered_program, dtype: int64"
      ]
     },
     "execution_count": 6,
     "metadata": {},
     "output_type": "execute_result"
    }
   ],
   "source": [
    "dt['registered_program'].value_counts()"
   ]
  },
  {
   "cell_type": "markdown",
   "metadata": {},
   "source": [
    "# Data Mapping"
   ]
  },
  {
   "cell_type": "code",
   "execution_count": 7,
   "metadata": {},
   "outputs": [
    {
     "data": {
      "text/plain": [
       "Index(['1st_choice', '2nd_choice', '3rd_choice', 'ssc_or_olevel',\n",
       "       'hsc_or_alevel', 'medium', 'ssc_board', 'hsc_board',\n",
       "       'registered_program', 'target_dept'],\n",
       "      dtype='object')"
      ]
     },
     "execution_count": 7,
     "metadata": {},
     "output_type": "execute_result"
    }
   ],
   "source": [
    "dt.columns"
   ]
  },
  {
   "cell_type": "code",
   "execution_count": 8,
   "metadata": {},
   "outputs": [
    {
     "name": "stdout",
     "output_type": "stream",
     "text": [
      "Feature '1st_choice' has 16 unique catagories\n",
      "Feature '2nd_choice' has 17 unique catagories\n",
      "Feature '3rd_choice' has 17 unique catagories\n",
      "Feature 'medium' has 4 unique catagories\n",
      "Feature 'ssc_board' has 12 unique catagories\n",
      "Feature 'hsc_board' has 12 unique catagories\n",
      "Feature 'registered_program' has 16 unique catagories\n",
      "Feature 'target_dept' has 9 unique catagories\n"
     ]
    }
   ],
   "source": [
    "#check how many unique values - method\n",
    "# including empty val counted as a separate catagory\n",
    "for col_name in dt.columns:\n",
    "    if dt[col_name].dtypes == 'object':\n",
    "        unique_cat = len(dt[col_name].unique())\n",
    "        print(\"Feature '{col_name}' has {unique_cat} unique catagories\".format(\n",
    "             col_name=col_name, unique_cat= unique_cat))"
   ]
  },
  {
   "cell_type": "code",
   "execution_count": 9,
   "metadata": {},
   "outputs": [],
   "source": [
    "map_obj={\"1st_choice\":{\"ANT-1\":1,\"APE-1\":2,\"ARC-1\":3,\"BBA-1\":4,\"BIO-1\":5,\"CS-1\":6,\"CSE-1\":7,\"ECE-1\":8,\"ECO-1\":9,\n",
    "                      \"EEE-1\":10,\"ENG-1\":11,\"LLB-1\":12,\"MAT-1\":13,\"MIC-1\":14,\"PHR-1\":15,\"PHY-1\":16}  ,\n",
    "        \"2nd_choice\":{\"ANT-2\":1,\"APE-2\":2,\"ARC-2\":3,\"BBA-2\":4,\"BIO-2\":5,\"CS-2\":6,\"CSE-2\":7,\"ECE-2\":8,\"ECO-2\":9,\n",
    "                      \"EEE-2\":10,\"ENG-2\":11,\"LLB-2\":12,\"MAT-2\":13,\"MIC-2\":14,\"PHR-2\":15,\"PHY-2\":16} ,\n",
    "        \"3rd_choice\":{\"ANT-3\":1,\"APE-3\":2,\"ARC-3\":3,\"BBA-3\":4,\"BIO-3\":5,\"CS-3\":6,\"CSE-3\":7,\"ECE-3\":8,\"ECO-3\":9,\n",
    "                      \"EEE-3\":10,\"ENG-3\":11,\"LLB-3\":12,\"MAT-3\":13,\"MIC-3\":14,\"PHR-3\":15,\"PHY-3\":16}    ,\n",
    "        \"registered_program\":{\"ANT\":1,\"APE\":2,\"ARC\":3,\"BBA\":4,\"BIO\":5,\"CS\":6,\"CSE\":7,\"ECE\":8,\"ECO\":9,\n",
    "                      \"EEE\":10,\"ENG\":11,\"LLB\":12,\"MAT\":13,\"MIC\":14,\"PHR\":15,\"PHY\":16}   ,\n",
    "        \"ssc_board\":{\"Barisal\":1,\"CBSE\":2,\"Chittagong\":3,\"Comilla\":4,\"Dhaka\":5,\"Dinajpur\":6,\"Jessore\":7,\n",
    "                     \"Madrasah\":8,\"Others\":9,\"Rajshahi\":10,\"Sylhet\":11},\n",
    "        \"hsc_board\":{\"Barisal\":1,\"CBSE\":2,\"Chittagong\":3,\"Comilla\":4,\"Dhaka\":5,\"Dinajpur\":6,\"Jessore\":7,\n",
    "                     \"Madrasah\":8,\"Others\":9,\"Rajshahi\":10,\"Sylhet\":11}    ,\n",
    "        \"medium\":{\"ban\":1,\"eng\":2,\"eng-ver\":3,\"madrasah\":4},\n",
    "        \"target_dept\":{\"MNS\":1,\"ComputerSciandEngr\":2,\"ElectricalandElectronicEngr\":3,\"ESS\":4,\"ENH\":5,\n",
    "                      \"Brac_Business_School\":6,\"School_of_Law\":7,\"Architecture\":8,\"Pharmacy\":9}\n",
    "        }\n",
    "dt.replace(map_obj,inplace=True)"
   ]
  },
  {
   "cell_type": "code",
   "execution_count": 10,
   "metadata": {},
   "outputs": [
    {
     "data": {
      "text/html": [
       "<div>\n",
       "<style scoped>\n",
       "    .dataframe tbody tr th:only-of-type {\n",
       "        vertical-align: middle;\n",
       "    }\n",
       "\n",
       "    .dataframe tbody tr th {\n",
       "        vertical-align: top;\n",
       "    }\n",
       "\n",
       "    .dataframe thead th {\n",
       "        text-align: right;\n",
       "    }\n",
       "</style>\n",
       "<table border=\"1\" class=\"dataframe\">\n",
       "  <thead>\n",
       "    <tr style=\"text-align: right;\">\n",
       "      <th></th>\n",
       "      <th>1st_choice</th>\n",
       "      <th>2nd_choice</th>\n",
       "      <th>3rd_choice</th>\n",
       "      <th>ssc_or_olevel</th>\n",
       "      <th>hsc_or_alevel</th>\n",
       "      <th>medium</th>\n",
       "      <th>ssc_board</th>\n",
       "      <th>hsc_board</th>\n",
       "      <th>registered_program</th>\n",
       "      <th>target_dept</th>\n",
       "    </tr>\n",
       "  </thead>\n",
       "  <tbody>\n",
       "    <tr>\n",
       "      <th>0</th>\n",
       "      <td>3</td>\n",
       "      <td>7.0</td>\n",
       "      <td>6.0</td>\n",
       "      <td>4.8</td>\n",
       "      <td>4.50</td>\n",
       "      <td>2</td>\n",
       "      <td>NaN</td>\n",
       "      <td>NaN</td>\n",
       "      <td>3</td>\n",
       "      <td>8</td>\n",
       "    </tr>\n",
       "    <tr>\n",
       "      <th>1</th>\n",
       "      <td>8</td>\n",
       "      <td>10.0</td>\n",
       "      <td>7.0</td>\n",
       "      <td>5.0</td>\n",
       "      <td>4.08</td>\n",
       "      <td>1</td>\n",
       "      <td>NaN</td>\n",
       "      <td>NaN</td>\n",
       "      <td>8</td>\n",
       "      <td>3</td>\n",
       "    </tr>\n",
       "    <tr>\n",
       "      <th>2</th>\n",
       "      <td>5</td>\n",
       "      <td>7.0</td>\n",
       "      <td>4.0</td>\n",
       "      <td>5.0</td>\n",
       "      <td>5.00</td>\n",
       "      <td>3</td>\n",
       "      <td>5.0</td>\n",
       "      <td>5.0</td>\n",
       "      <td>5</td>\n",
       "      <td>1</td>\n",
       "    </tr>\n",
       "    <tr>\n",
       "      <th>3</th>\n",
       "      <td>3</td>\n",
       "      <td>5.0</td>\n",
       "      <td>10.0</td>\n",
       "      <td>5.0</td>\n",
       "      <td>5.00</td>\n",
       "      <td>2</td>\n",
       "      <td>NaN</td>\n",
       "      <td>NaN</td>\n",
       "      <td>5</td>\n",
       "      <td>1</td>\n",
       "    </tr>\n",
       "    <tr>\n",
       "      <th>4</th>\n",
       "      <td>3</td>\n",
       "      <td>12.0</td>\n",
       "      <td>NaN</td>\n",
       "      <td>4.6</td>\n",
       "      <td>NaN</td>\n",
       "      <td>2</td>\n",
       "      <td>NaN</td>\n",
       "      <td>NaN</td>\n",
       "      <td>12</td>\n",
       "      <td>7</td>\n",
       "    </tr>\n",
       "  </tbody>\n",
       "</table>\n",
       "</div>"
      ],
      "text/plain": [
       "   1st_choice  2nd_choice  3rd_choice  ssc_or_olevel  hsc_or_alevel  medium  \\\n",
       "0           3         7.0         6.0            4.8           4.50       2   \n",
       "1           8        10.0         7.0            5.0           4.08       1   \n",
       "2           5         7.0         4.0            5.0           5.00       3   \n",
       "3           3         5.0        10.0            5.0           5.00       2   \n",
       "4           3        12.0         NaN            4.6            NaN       2   \n",
       "\n",
       "   ssc_board  hsc_board  registered_program  target_dept  \n",
       "0        NaN        NaN                   3            8  \n",
       "1        NaN        NaN                   8            3  \n",
       "2        5.0        5.0                   5            1  \n",
       "3        NaN        NaN                   5            1  \n",
       "4        NaN        NaN                  12            7  "
      ]
     },
     "execution_count": 10,
     "metadata": {},
     "output_type": "execute_result"
    }
   ],
   "source": [
    "dt.head()"
   ]
  },
  {
   "cell_type": "markdown",
   "metadata": {},
   "source": [
    "# Empty value handling"
   ]
  },
  {
   "cell_type": "code",
   "execution_count": 11,
   "metadata": {},
   "outputs": [
    {
     "data": {
      "text/plain": [
       "3rd_choice            1111\n",
       "hsc_board              590\n",
       "ssc_board              581\n",
       "hsc_or_alevel          330\n",
       "ssc_or_olevel          233\n",
       "2nd_choice              57\n",
       "target_dept              0\n",
       "registered_program       0\n",
       "medium                   0\n",
       "1st_choice               0\n",
       "dtype: int64"
      ]
     },
     "execution_count": 11,
     "metadata": {},
     "output_type": "execute_result"
    }
   ],
   "source": [
    "dt.isnull().sum().sort_values(ascending=False)"
   ]
  },
  {
   "cell_type": "code",
   "execution_count": 12,
   "metadata": {},
   "outputs": [
    {
     "data": {
      "text/plain": [
       "target_dept           0\n",
       "registered_program    0\n",
       "hsc_board             0\n",
       "ssc_board             0\n",
       "medium                0\n",
       "hsc_or_alevel         0\n",
       "dtype: int64"
      ]
     },
     "execution_count": 12,
     "metadata": {},
     "output_type": "execute_result"
    }
   ],
   "source": [
    "#Impute missing values using Imputer in aklearn.preprocessing\n",
    "from sklearn.preprocessing import Imputer\n",
    "\n",
    "imp= Imputer(missing_values= 'NaN', strategy='median', axis=0) \n",
    "#median posses no issue cause ssc/olevel result is now in one col -\n",
    "#manually and another feature \"medium\" was added manually\n",
    "imp.fit(dt)\n",
    "dt= pd.DataFrame(data=imp.transform(dt),columns=dt.columns)\n",
    "\n",
    "#now check again for null if any\n",
    "dt.isnull().sum().sort_values(ascending=False).head(6)"
   ]
  },
  {
   "cell_type": "markdown",
   "metadata": {},
   "source": [
    "# split data to train - test set"
   ]
  },
  {
   "cell_type": "code",
   "execution_count": 13,
   "metadata": {},
   "outputs": [],
   "source": [
    "x = dt.drop('target_dept',1)\n",
    "y = dt.target_dept"
   ]
  },
  {
   "cell_type": "code",
   "execution_count": 30,
   "metadata": {},
   "outputs": [],
   "source": [
    "X_train, X_test, y_train, y_test = train_test_split(x, y, random_state=42, test_size=.20)"
   ]
  },
  {
   "cell_type": "code",
   "execution_count": 31,
   "metadata": {},
   "outputs": [
    {
     "data": {
      "text/plain": [
       "(1969, 9)"
      ]
     },
     "execution_count": 31,
     "metadata": {},
     "output_type": "execute_result"
    }
   ],
   "source": [
    "X_train.shape"
   ]
  },
  {
   "cell_type": "code",
   "execution_count": 32,
   "metadata": {},
   "outputs": [
    {
     "data": {
      "text/plain": [
       "(493, 9)"
      ]
     },
     "execution_count": 32,
     "metadata": {},
     "output_type": "execute_result"
    }
   ],
   "source": [
    "X_test.shape"
   ]
  },
  {
   "cell_type": "markdown",
   "metadata": {},
   "source": [
    "# Model accuracy score"
   ]
  },
  {
   "cell_type": "code",
   "execution_count": 33,
   "metadata": {},
   "outputs": [
    {
     "name": "stdout",
     "output_type": "stream",
     "text": [
      "----- KNN -----\n",
      "Score: 78.90 %\n",
      "\n",
      "\n",
      "----- Logistic Regression -----\n",
      "Score: 41.58 %\n",
      "\n",
      "\n",
      "----- Linear SVM -----\n",
      "Score: 86.00 %\n",
      "\n",
      "\n",
      "----- Decision Tree -----\n",
      "Score: 100.00 %\n",
      "\n",
      "\n",
      "----- Random Forest -----\n",
      "Score: 98.58 %\n",
      "\n",
      "\n",
      "----- AdaBoost -----\n",
      "Score: 33.27 %\n",
      "\n",
      "\n",
      "----- Naive Bayes -----\n",
      "Score: 66.94 %\n",
      "\n",
      "\n"
     ]
    }
   ],
   "source": [
    "sizes=[]\n",
    "names = [\"KNN\", \"Logistic Regression\",\"Linear SVM\",\n",
    "         \"Decision Tree\", \"Random Forest\", \"AdaBoost\",\"Naive Bayes\"]\n",
    "\n",
    "classifiers = [\n",
    "    KNeighborsClassifier(),\n",
    "    LogisticRegression(),\n",
    "    SVC(),\n",
    "    DecisionTreeClassifier(),\n",
    "    RandomForestClassifier(),\n",
    "    AdaBoostClassifier(),\n",
    "    GaussianNB()\n",
    "]\n",
    "\n",
    "# iterate over classifiers\n",
    "for name, clf in zip(names, classifiers):\n",
    "    # ax = plt.subplot(len(datasets), len(classifiers) + 1, i)\n",
    "    clf.fit(X_train,y_train)\n",
    "    pred = clf.predict(X_test)\n",
    "    score = accuracy_score(pred,y_test)\n",
    "    print(\"-----\",name,\"-----\")\n",
    "    result = (score*100)\n",
    "    sizes.append(result)\n",
    "    print(\"Score: %.2f %%\"%(score*100))\n",
    "    print(\"\\n\")\n",
    "   "
   ]
  },
  {
   "cell_type": "code",
   "execution_count": 34,
   "metadata": {},
   "outputs": [
    {
     "data": {
      "image/png": "[encoded data removed]",
      "text/plain": [
       "<Figure size 432x288 with 1 Axes>"
      ]
     },
     "metadata": {},
     "output_type": "display_data"
    }
   ],
   "source": [
    "sizes=sizes\n",
    "# Pie chart, where the slices will be ordered and plotted counter-clockwise:\n",
    "labels = 'KNearest Neighbors','Logistic Regression', 'Linear SVM','Decision Tree', 'Random Forest', 'AdaBoost','Naive Bayes'\n",
    "\n",
    "explode = (0.08, 0.08, 0.08, 0.08,0.08,0.08,0.08)\n",
    "colors = ['lightgreen', 'grey', 'lightgreen', 'lightgreen','lightgreen','grey','grey']\n",
    "fig1, ax1 = plt.subplots()\n",
    "ax1.pie(sizes, explode=explode, labels=labels, autopct='%1.1f%%',\n",
    "        shadow=True, startangle=140,colors=colors)\n",
    "ax1.axis('equal')  # Equal aspect ratio ensures that pie is drawn as a circle.\n",
    "\n",
    "plt.show()"
   ]
  }
 ],
 "metadata": {
  "kernelspec": {
   "display_name": "Python 3",
   "language": "python",
   "name": "python3"
  },
  "language_info": {
   "codemirror_mode": {
    "name": "ipython",
    "version": 3
   },
   "file_extension": ".py",
   "mimetype": "text/x-python",
   "name": "python",
   "nbconvert_exporter": "python",
   "pygments_lexer": "ipython3",
   "version": "3.7.0"
  }
 },
 "nbformat": 4,
 "nbformat_minor": 2
}
